{
  "nbformat": 4,
  "nbformat_minor": 0,
  "metadata": {
    "colab": {
      "provenance": [],
      "authorship_tag": "ABX9TyN+4lU2Pd/qgWri1i92iDPA",
      "include_colab_link": true
    },
    "kernelspec": {
      "name": "python3",
      "display_name": "Python 3"
    },
    "language_info": {
      "name": "python"
    }
  },
  "cells": [
    {
      "cell_type": "markdown",
      "metadata": {
        "id": "view-in-github",
        "colab_type": "text"
      },
      "source": [
        "<a href=\"https://colab.research.google.com/github/MaverickDeAI/sklearn/blob/main/sklearnint.ipynb\" target=\"_parent\"><img src=\"https://colab.research.google.com/assets/colab-badge.svg\" alt=\"Open In Colab\"/></a>"
      ]
    },
    {
      "cell_type": "code",
      "execution_count": 12,
      "metadata": {
        "id": "eBsc_b1GodTV"
      },
      "outputs": [],
      "source": [
        "import matplotlib.pyplot as plt\n",
        "# from sklearn.externals import joblibs\n",
        "from sklearn import datasets\n",
        "from sklearn.model_selection import train_test_split"
      ]
    },
    {
      "cell_type": "markdown",
      "source": [
        "classification\n",
        "regression\n",
        "clustering\n",
        "uci machin reo"
      ],
      "metadata": {
        "id": "q5XHK8qcqJix"
      }
    },
    {
      "cell_type": "code",
      "source": [
        "data = datasets.load_iris()\n",
        "x = data.data\n",
        "y = data.target\n",
        "\n",
        "\n",
        "\n"
      ],
      "metadata": {
        "id": "wcaR8_2zouzJ"
      },
      "execution_count": 14,
      "outputs": []
    },
    {
      "cell_type": "code",
      "source": [
        "x_train ,x_test ,y_train ,y_test = train_test_split(x,y,test_size=0.2)\n"
      ],
      "metadata": {
        "colab": {
          "base_uri": "https://localhost:8080/"
        },
        "id": "WtJzaFtHqO_u",
        "outputId": "1f1a5cc4-e02b-4b37-cc4f-86a02e8c9ab5"
      },
      "execution_count": 16,
      "outputs": [
        {
          "output_type": "stream",
          "name": "stdout",
          "text": [
            "(120, 4)\n"
          ]
        }
      ]
    },
    {
      "cell_type": "markdown",
      "source": [
        "Classification K nearest neighbours (Knn)"
      ],
      "metadata": {
        "id": "76q9cvdNxCPw"
      }
    },
    {
      "cell_type": "code",
      "source": [],
      "metadata": {
        "id": "QUky4xcexEBn"
      },
      "execution_count": null,
      "outputs": []
    }
  ]
}