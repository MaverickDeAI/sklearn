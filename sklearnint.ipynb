{
  "nbformat": 4,
  "nbformat_minor": 0,
  "metadata": {
    "colab": {
      "provenance": [],
      "authorship_tag": "ABX9TyPEOjIGSDVcqClltG7WCgOd",
      "include_colab_link": true
    },
    "kernelspec": {
      "name": "python3",
      "display_name": "Python 3"
    },
    "language_info": {
      "name": "python"
    }
  },
  "cells": [
    {
      "cell_type": "markdown",
      "metadata": {
        "id": "view-in-github",
        "colab_type": "text"
      },
      "source": [
        "<a href=\"https://colab.research.google.com/github/MaverickDeAI/sklearn/blob/main/sklearnint.ipynb\" target=\"_parent\"><img src=\"https://colab.research.google.com/assets/colab-badge.svg\" alt=\"Open In Colab\"/></a>"
      ]
    },
    {
      "cell_type": "code",
      "source": [
        "# pip install ucimlrepo"
      ],
      "metadata": {
        "colab": {
          "base_uri": "https://localhost:8080/"
        },
        "id": "Gk32KG8_zOMt",
        "outputId": "d1fd4b99-c131-47ba-d069-7bea1f1b24a2"
      },
      "execution_count": null,
      "outputs": [
        {
          "output_type": "stream",
          "name": "stdout",
          "text": [
            "Collecting ucimlrepo\n",
            "  Downloading ucimlrepo-0.0.6-py3-none-any.whl (8.0 kB)\n",
            "Installing collected packages: ucimlrepo\n",
            "Successfully installed ucimlrepo-0.0.6\n"
          ]
        }
      ]
    },
    {
      "cell_type": "code",
      "execution_count": null,
      "metadata": {
        "colab": {
          "base_uri": "https://localhost:8080/"
        },
        "id": "eBsc_b1GodTV",
        "outputId": "75cc19e8-e63c-4ab3-d807-cdade8938fd9"
      },
      "outputs": [
        {
          "output_type": "stream",
          "name": "stdout",
          "text": [
            "{'uci_id': 19, 'name': 'Car Evaluation', 'repository_url': 'https://archive.ics.uci.edu/dataset/19/car+evaluation', 'data_url': 'https://archive.ics.uci.edu/static/public/19/data.csv', 'abstract': 'Derived from simple hierarchical decision model, this database may be useful for testing constructive induction and structure discovery methods.', 'area': 'Other', 'tasks': ['Classification'], 'characteristics': ['Multivariate'], 'num_instances': 1728, 'num_features': 6, 'feature_types': ['Categorical'], 'demographics': [], 'target_col': ['class'], 'index_col': None, 'has_missing_values': 'no', 'missing_values_symbol': None, 'year_of_dataset_creation': 1988, 'last_updated': 'Thu Aug 10 2023', 'dataset_doi': '10.24432/C5JP48', 'creators': ['Marko Bohanec'], 'intro_paper': {'title': 'Knowledge acquisition and explanation for multi-attribute decision making', 'authors': 'M. Bohanec, V. Rajkovič', 'published_in': '8th Intl Workshop on Expert Systems and their Applications, Avignon, France', 'year': 1988, 'url': 'https://www.semanticscholar.org/paper/KNOWLEDGE-ACQUISITION-AND-EXPLANATION-FOR-DECISION-Bohanec-Rajkovi%C4%8D/8bab443ae322ff47c3e609272bd93fd4650555bc', 'doi': None}, 'additional_info': {'summary': 'Car Evaluation Database was derived from a simple hierarchical decision model originally developed for the demonstration of DEX, M. Bohanec, V. Rajkovic: Expert system for decision making. Sistemica 1(1), pp. 145-157, 1990.). The model evaluates cars according to the following concept structure:\\r\\n\\r\\nCAR                      car acceptability\\r\\n. PRICE                  overall price\\r\\n. . buying               buying price\\r\\n. . maint                price of the maintenance\\r\\n. TECH                   technical characteristics\\r\\n. . COMFORT              comfort\\r\\n. . . doors              number of doors\\r\\n. . . persons            capacity in terms of persons to carry\\r\\n. . . lug_boot           the size of luggage boot\\r\\n. . safety               estimated safety of the car\\r\\n\\r\\nInput attributes are printed in lowercase. Besides the target concept (CAR), the model includes three intermediate concepts: PRICE, TECH, COMFORT. Every concept is in the original model related to its lower level descendants by a set of examples (for these examples sets see http://www-ai.ijs.si/BlazZupan/car.html).\\r\\n\\r\\nThe Car Evaluation Database contains examples with the structural information removed, i.e., directly relates CAR to the six input attributes: buying, maint, doors, persons, lug_boot, safety.\\r\\n\\r\\nBecause of known underlying concept structure, this database may be particularly useful for testing constructive induction and structure discovery methods.\\r\\n', 'purpose': None, 'funded_by': None, 'instances_represent': None, 'recommended_data_splits': None, 'sensitive_data': None, 'preprocessing_description': None, 'variable_info': 'buying:   vhigh, high, med, low.\\nmaint:    vhigh, high, med, low.\\ndoors:    2, 3, 4, 5more.\\npersons:  2, 4, more.\\nlug_boot: small, med, big.\\nsafety:   low, med, high.', 'citation': None}}\n",
            "       name     role         type demographic  \\\n",
            "0    buying  Feature  Categorical        None   \n",
            "1     maint  Feature  Categorical        None   \n",
            "2     doors  Feature  Categorical        None   \n",
            "3   persons  Feature  Categorical        None   \n",
            "4  lug_boot  Feature  Categorical        None   \n",
            "5    safety  Feature  Categorical        None   \n",
            "6     class   Target  Categorical        None   \n",
            "\n",
            "                                         description units missing_values  \n",
            "0                                       buying price  None             no  \n",
            "1                           price of the maintenance  None             no  \n",
            "2                                    number of doors  None             no  \n",
            "3              capacity in terms of persons to carry  None             no  \n",
            "4                           the size of luggage boot  None             no  \n",
            "5                        estimated safety of the car  None             no  \n",
            "6  evaulation level (unacceptable, acceptable, go...  None             no  \n"
          ]
        }
      ],
      "source": [
        "import matplotlib.pyplot as plt\n",
        "# from sklearn.externals import joblibs\n",
        "from sklearn import datasets\n",
        "from sklearn.model_selection import train_test_split\n",
        "\n",
        "from ucimlrepo import fetch_ucirepo\n",
        "\n",
        "# fetch dataset\n",
        "car_evaluation = fetch_ucirepo(id=19)\n",
        "\n",
        "# data (as pandas dataframes)\n",
        "X_car = car_evaluation.data.features\n",
        "y_car = car_evaluation.data.targets\n",
        "\n",
        "# metadata\n",
        "print(car_evaluation.metadata)\n",
        "\n",
        "# variable information\n",
        "print(car_evaluation.variables)\n",
        "\n"
      ]
    },
    {
      "cell_type": "markdown",
      "source": [
        "classification\n",
        "regression\n",
        "clustering\n",
        "uci machin reo"
      ],
      "metadata": {
        "id": "q5XHK8qcqJix"
      }
    },
    {
      "cell_type": "code",
      "source": [
        "data = datasets.load_iris()\n",
        "x = data.data\n",
        "y = data.target\n",
        "\n",
        "\n",
        "\n",
        "\n"
      ],
      "metadata": {
        "id": "wcaR8_2zouzJ"
      },
      "execution_count": null,
      "outputs": []
    },
    {
      "cell_type": "code",
      "source": [
        "x_train ,x_test ,y_train ,y_test = train_test_split(x,y,test_size=0.2)\n"
      ],
      "metadata": {
        "colab": {
          "base_uri": "https://localhost:8080/"
        },
        "id": "WtJzaFtHqO_u",
        "outputId": "1f1a5cc4-e02b-4b37-cc4f-86a02e8c9ab5"
      },
      "execution_count": null,
      "outputs": [
        {
          "output_type": "stream",
          "name": "stdout",
          "text": [
            "(120, 4)\n"
          ]
        }
      ]
    },
    {
      "cell_type": "markdown",
      "source": [
        "Classification K nearest neighbours (Knn)"
      ],
      "metadata": {
        "id": "76q9cvdNxCPw"
      }
    },
    {
      "cell_type": "markdown",
      "source": [],
      "metadata": {
        "id": "J1e--XWi0I12"
      }
    },
    {
      "cell_type": "code",
      "source": [
        "from sklearn.preprocessing import OneHotEncoder\n",
        "ohe = OneHotEncoder()\n",
        "ohe_X_car = ohe.fit_transform(X_car)\n",
        "\n",
        "print(ohe_X_car ,X_car)\n",
        "\n",
        "\n"
      ],
      "metadata": {
        "colab": {
          "base_uri": "https://localhost:8080/"
        },
        "id": "QUky4xcexEBn",
        "outputId": "95d69c3d-7137-4086-ac23-cc60b3a7a6d3"
      },
      "execution_count": null,
      "outputs": [
        {
          "output_type": "stream",
          "name": "stdout",
          "text": [
            "  (0, 3)\t1.0\n",
            "  (0, 7)\t1.0\n",
            "  (0, 8)\t1.0\n",
            "  (0, 12)\t1.0\n",
            "  (0, 17)\t1.0\n",
            "  (0, 19)\t1.0\n",
            "  (1, 3)\t1.0\n",
            "  (1, 7)\t1.0\n",
            "  (1, 8)\t1.0\n",
            "  (1, 12)\t1.0\n",
            "  (1, 17)\t1.0\n",
            "  (1, 20)\t1.0\n",
            "  (2, 3)\t1.0\n",
            "  (2, 7)\t1.0\n",
            "  (2, 8)\t1.0\n",
            "  (2, 12)\t1.0\n",
            "  (2, 17)\t1.0\n",
            "  (2, 18)\t1.0\n",
            "  (3, 3)\t1.0\n",
            "  (3, 7)\t1.0\n",
            "  (3, 8)\t1.0\n",
            "  (3, 12)\t1.0\n",
            "  (3, 16)\t1.0\n",
            "  (3, 19)\t1.0\n",
            "  (4, 3)\t1.0\n",
            "  :\t:\n",
            "  (1723, 20)\t1.0\n",
            "  (1724, 1)\t1.0\n",
            "  (1724, 5)\t1.0\n",
            "  (1724, 11)\t1.0\n",
            "  (1724, 14)\t1.0\n",
            "  (1724, 16)\t1.0\n",
            "  (1724, 18)\t1.0\n",
            "  (1725, 1)\t1.0\n",
            "  (1725, 5)\t1.0\n",
            "  (1725, 11)\t1.0\n",
            "  (1725, 14)\t1.0\n",
            "  (1725, 15)\t1.0\n",
            "  (1725, 19)\t1.0\n",
            "  (1726, 1)\t1.0\n",
            "  (1726, 5)\t1.0\n",
            "  (1726, 11)\t1.0\n",
            "  (1726, 14)\t1.0\n",
            "  (1726, 15)\t1.0\n",
            "  (1726, 20)\t1.0\n",
            "  (1727, 1)\t1.0\n",
            "  (1727, 5)\t1.0\n",
            "  (1727, 11)\t1.0\n",
            "  (1727, 14)\t1.0\n",
            "  (1727, 15)\t1.0\n",
            "  (1727, 18)\t1.0      buying  maint  doors persons lug_boot safety\n",
            "0     vhigh  vhigh      2       2    small    low\n",
            "1     vhigh  vhigh      2       2    small    med\n",
            "2     vhigh  vhigh      2       2    small   high\n",
            "3     vhigh  vhigh      2       2      med    low\n",
            "4     vhigh  vhigh      2       2      med    med\n",
            "...     ...    ...    ...     ...      ...    ...\n",
            "1723    low    low  5more    more      med    med\n",
            "1724    low    low  5more    more      med   high\n",
            "1725    low    low  5more    more      big    low\n",
            "1726    low    low  5more    more      big    med\n",
            "1727    low    low  5more    more      big   high\n",
            "\n",
            "[1728 rows x 6 columns]\n"
          ]
        }
      ]
    },
    {
      "cell_type": "code",
      "source": [
        "knn = neighbors.KNeighborsClassifier(n_neigbors=25, weights=\"uniform\")\n",
        "knn.fit(X_train,Y_Train)\n",
        "predictions = knn.predict(X_test)\n",
        "accuracy = metrics.accuracy_scorely(y,test_predictions)"
      ],
      "metadata": {
        "id": "bG869VLwTvoC"
      },
      "execution_count": null,
      "outputs": []
    }
  ]
}